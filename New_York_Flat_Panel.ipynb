{
  "nbformat": 4,
  "nbformat_minor": 0,
  "metadata": {
    "colab": {
      "name": "New York Flat Panel",
      "provenance": [],
      "collapsed_sections": []
    },
    "kernelspec": {
      "name": "python3",
      "display_name": "Python 3"
    }
  },
  "cells": [
    {
      "cell_type": "code",
      "metadata": {
        "id": "5UdCGV7HLhu7",
        "colab_type": "code",
        "colab": {}
      },
      "source": [
        "from scipy.integrate import quad\n",
        "import numpy as np\n",
        "import math \n",
        "import matplotlib.pyplot as plt"
      ],
      "execution_count": 0,
      "outputs": []
    },
    {
      "cell_type": "code",
      "metadata": {
        "id": "P1ZGJLzuLpC5",
        "colab_type": "code",
        "colab": {}
      },
      "source": [
        "def declination(w):       \n",
        "    ab = abs(w-182.5)\n",
        "    dec = 0.41 - ((0.41*ab)/91.25)\n",
        "    return dec  "
      ],
      "execution_count": 0,
      "outputs": []
    },
    {
      "cell_type": "code",
      "metadata": {
        "id": "vxULjF0lLuw4",
        "colab_type": "code",
        "colab": {}
      },
      "source": [
        "def f(t):\n",
        "    constraint = np.sin(t)+a*np.tan(declination(w))\n",
        "    if (constraint > 0):\n",
        "        return np.cos(declination(w))*(np.sin(t)+a*np.tan(declination(w)))\n",
        "    else:\n",
        "        return 0"
      ],
      "execution_count": 0,
      "outputs": []
    },
    {
      "cell_type": "code",
      "metadata": {
        "id": "4u5b9zSvLvNy",
        "colab_type": "code",
        "outputId": "44eac5d8-7f91-412e-fc58-13147253e0c4",
        "colab": {
          "base_uri": "https://localhost:8080/",
          "height": 108
        }
      },
      "source": [
        "results=dict()\n",
        "de=dict()\n",
        "p=np.pi * 40.7 / 180\n",
        "a=-0.8\n",
        "while (a<0.9):\n",
        "  area=math.sqrt(1+a*a)\n",
        "  sum=0.0\n",
        "  for w in range (0,365):    \n",
        "    results[(a,w)]=quad(f, np.arcsin(-np.tan(p)*np.tan(declination(w))), np.pi-(np.arcsin(-np.tan (p) * np.tan (declination(w)))))[0]\n",
        "    de[(a,w)]=results[(a,w)]/area\n",
        "    sum = sum + de[(a,w)]\n",
        "  print (a,sum)\n",
        "  a= a+ 0.4\n",
        "  \n",
        "  \n"
      ],
      "execution_count": 0,
      "outputs": [
        {
          "output_type": "stream",
          "text": [
            "-0.8 541.943886061967\n",
            "-0.4 646.4579200042906\n",
            "0.0 701.8521171352407\n",
            "0.4 659.9460028164656\n",
            "0.8 564.6308696722207\n"
          ],
          "name": "stdout"
        }
      ]
    },
    {
      "cell_type": "code",
      "metadata": {
        "id": "HyyNIPofLvQl",
        "colab_type": "code",
        "outputId": "68e69086-79a5-4991-e5ac-f623a0495006",
        "colab": {
          "base_uri": "https://localhost:8080/",
          "height": 376
        }
      },
      "source": [
        "\n",
        "plt.title(\"Graph of 'Annual Exposure' Vs 'a'  for tilted flat panels in NYC\")\n",
        "a=-0.8\n",
        "p=np.pi * 40.7 / 180\n",
        "while (a<0.9):\n",
        "  area=math.sqrt(1+a*a)\n",
        "  sum=0.0\n",
        "  for w in range (0,365):\n",
        "    results[(a,w)]=quad(f, np.arcsin(-np.tan(p)*np.tan(declination(w))),np.pi-(np.arcsin(-np.tan (p) * np.tan (declination(w)))))[0]\n",
        "    de[(a,w)]=results[(a,w)]/area\n",
        "    sum = sum + de[(a,w)]\n",
        "  a=a+0.01\n",
        "  plt.plot(a, sum, color=\"black\", markeredgecolor=\"blue\", marker='o')\n",
        "plt.ylabel('Annual Exposure')\n",
        "plt.xlabel('a')\n",
        "plt.show()\n"
      ],
      "execution_count": 0,
      "outputs": [
        {
          "output_type": "display_data",
          "data": {
            "image/png": "[encoded data removed]",
            "text/plain": [
              "<matplotlib.figure.Figure at 0x7f7d2f7e26a0>"
            ]
          },
          "metadata": {
            "tags": []
          }
        }
      ]
    },
    {
      "cell_type": "code",
      "metadata": {
        "id": "U67urfoM4Nhi",
        "colab_type": "code",
        "colab": {}
      },
      "source": [
        ""
      ],
      "execution_count": 0,
      "outputs": []
    }
  ]
}