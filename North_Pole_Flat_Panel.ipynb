{
  "nbformat": 4,
  "nbformat_minor": 0,
  "metadata": {
    "colab": {
      "name": "North Pole Flat Panel",
      "provenance": [],
      "collapsed_sections": []
    },
    "kernelspec": {
      "name": "python3",
      "display_name": "Python 3"
    }
  },
  "cells": [
    {
      "cell_type": "code",
      "metadata": {
        "id": "5UdCGV7HLhu7",
        "colab_type": "code",
        "colab": {}
      },
      "source": [
        "from scipy.integrate import quad\n",
        "import numpy as np\n",
        "import math \n",
        "import matplotlib.pyplot as plt"
      ],
      "execution_count": 0,
      "outputs": []
    },
    {
      "cell_type": "code",
      "metadata": {
        "id": "P1ZGJLzuLpC5",
        "colab_type": "code",
        "colab": {}
      },
      "source": [
        "def declination(w):       \n",
        "    ab = abs(w-91.25)\n",
        "    dec = 0.41 - ((0.41*ab)/91.25)\n",
        "    return dec  "
      ],
      "execution_count": 0,
      "outputs": []
    },
    {
      "cell_type": "code",
      "metadata": {
        "id": "vxULjF0lLuw4",
        "colab_type": "code",
        "colab": {}
      },
      "source": [
        "def f(t):\n",
        "    constraint = np.sin(t)+a*np.tan(declination(w))\n",
        "    if (constraint > 0):\n",
        "        return np.cos(declination(w))*(np.sin(t)+a*np.tan(declination(w)))\n",
        "    else:\n",
        "        return 0"
      ],
      "execution_count": 0,
      "outputs": []
    },
    {
      "cell_type": "code",
      "metadata": {
        "id": "4u5b9zSvLvNy",
        "colab_type": "code",
        "colab": {}
      },
      "source": [
        "results=dict()\n",
        "de=dict()\n",
        "a=0.0\n",
        "while (a<0.51):\n",
        "  area=math.sqrt(1+a*a)\n",
        "  sum=0.0\n",
        "  for w in range (0,182):    \n",
        "    results[(a,w)]=quad(f,0,2*np.pi)[0]\n",
        "    de[(a,w)]=results[(a,w)]/area\n",
        "    sum = sum + de[(a,w)]\n",
        "  print (a,sum)\n",
        "  a= a+ 0.05\n",
        "  \n"
      ],
      "execution_count": 0,
      "outputs": []
    },
    {
      "cell_type": "code",
      "metadata": {
        "id": "HyyNIPofLvQl",
        "colab_type": "code",
        "outputId": "768b5529-7e18-46b8-d5e0-06956f6a689a",
        "colab": {
          "base_uri": "https://localhost:8080/",
          "height": 376
        }
      },
      "source": [
        "\n",
        "plt.title(\"North Pole Graph for tilted flat panel\")\n",
        "a=0.1\n",
        "while (a<0.51):\n",
        "  area=math.sqrt(1+a*a)\n",
        "  sum=0.0\n",
        "  for w in range (0,182):\n",
        "    results[(a,w)]=quad(f, 0,2*np.pi)[0]\n",
        "    de[(a,w)]=results[(a,w)]/area\n",
        "    sum = sum + de[(a,w)]\n",
        "  plt.plot(a, sum, color=\"black\", markeredgecolor=\"black\", marker='o')\n",
        "  a=a+0.05\n",
        "plt.ylabel('sum')\n",
        "plt.xlabel('a')\n",
        "plt.show()\n"
      ],
      "execution_count": 0,
      "outputs": [
        {
          "output_type": "display_data",
          "data": {
            "image/png": "[encoded data removed]",
            "text/plain": [
              "<matplotlib.figure.Figure at 0x7fc7245b16d8>"
            ]
          },
          "metadata": {
            "tags": []
          }
        }
      ]
    }
  ]
}