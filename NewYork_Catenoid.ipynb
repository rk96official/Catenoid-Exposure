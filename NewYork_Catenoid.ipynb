{
  "nbformat": 4,
  "nbformat_minor": 0,
  "metadata": {
    "colab": {
      "name": "NewYork Catenoid.ipynb",
      "provenance": [],
      "collapsed_sections": []
    },
    "kernelspec": {
      "name": "python2",
      "display_name": "Python 2"
    }
  },
  "cells": [
    {
      "cell_type": "code",
      "metadata": {
        "id": "cSuBse-tcGnf",
        "colab_type": "code",
        "colab": {}
      },
      "source": [
        "from scipy.integrate import tplquad\n",
        "import numpy as np\n",
        "import math\n",
        "import matplotlib.pyplot as plt\n"
      ],
      "execution_count": 0,
      "outputs": []
    },
    {
      "cell_type": "code",
      "metadata": {
        "id": "MSh2cAO-clVW",
        "colab_type": "code",
        "colab": {}
      },
      "source": [
        "def declination(w):       \n",
        "    ab = abs(w-182.5)\n",
        "    dec = 0.41 - ((0.41*ab)/91.25)\n",
        "    return dec  "
      ],
      "execution_count": 0,
      "outputs": []
    },
    {
      "cell_type": "code",
      "metadata": {
        "id": "33st2DTVXcj2",
        "colab_type": "code",
        "colab": {}
      },
      "source": [
        "def f(u,v,t):\n",
        "    constraint = np.cos(t-u) + np.tan(declination(w))*np.sinh(v/a)\n",
        "    if (constraint > 0):\n",
        "        return a*np.cosh(v/a)*np.cos(declination(w))*(np.cos(t-u)+np.tan (declination(w))*np.sinh(v/a))\n",
        "    else:\n",
        "        return 0"
      ],
      "execution_count": 0,
      "outputs": []
    },
    {
      "cell_type": "code",
      "metadata": {
        "id": "w-TfoY7qclbG",
        "colab_type": "code",
        "colab": {}
      },
      "source": [
        "results=dict()\n",
        "de=dict()\n",
        "p=np.pi * 40.7 / 180\n",
        "a=7*np.pi/12\n",
        "while (a<np.pi):\n",
        " area=a*np.pi/2*(2+a*np.sinh(2/a))\n",
        " sum=0.0\n",
        " for w in range (0,364):\n",
        "    results[(a,w)]=tplquad(f, np.arcsin(-np.tan(p)*np.tan(declination(w))), np.pi-(np.arcsin(-np.tan (p) * np.tan (declination(w)))), lambda v:0.0, lambda v:1.0/10, lambda u,v:(-np.pi/2)+a,lambda u,v:(3*np.pi/2)-a,epsabs=10, epsrel=100)[0]\n",
        "    de[(a,w)]=results[(a,w)]/area\n",
        "    sum = sum + de[(a,w)]\n",
        " print (a,sum)\n",
        " a= a + np.pi/12\n",
        "  \n"
      ],
      "execution_count": 0,
      "outputs": []
    },
    {
      "cell_type": "code",
      "metadata": {
        "id": "9RV3t5zxzF4V",
        "colab_type": "code",
        "colab": {}
      },
      "source": [
        ""
      ],
      "execution_count": 0,
      "outputs": []
    },
    {
      "cell_type": "code",
      "metadata": {
        "id": "5UCJMf6KBex7",
        "colab_type": "code",
        "outputId": "373f504d-1443-48c8-ab56-6be9e8da41ee",
        "colab": {
          "base_uri": "https://localhost:8080/",
          "height": 295
        }
      },
      "source": [
        "plt.title(\"New York City Time Graph\")\n",
        "p=np.pi * 40.7 / 180\n",
        "for w in range (0,365):\n",
        "  xy=(np.pi-(np.arcsin(-np.tan (p) * np.tan (declination(w)))))-(np.arcsin(-np.tan(p)*np.tan(declination(w))))\n",
        "  plt.plot(w, xy, marker=\".\", color=\"black\", markeredgecolor=\"black\")\n",
        "plt.ylabel('Length of the Day (in radians)')\n",
        "plt.xlabel('Days')\n",
        "plt.show()\n",
        "\n"
      ],
      "execution_count": 0,
      "outputs": [
        {
          "output_type": "display_data",
          "data": {
            "image/png": "[encoded data removed]",
            "text/plain": [
              "<Figure size 432x288 with 1 Axes>"
            ]
          },
          "metadata": {
            "tags": []
          }
        }
      ]
    }
  ]
}